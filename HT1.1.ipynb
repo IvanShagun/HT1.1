{
 "cells": [
  {
   "cell_type": "markdown",
   "id": "1b122eef",
   "metadata": {},
   "source": [
    "## Задание 1 ##"
   ]
  },
  {
   "cell_type": "markdown",
   "id": "f12fa399",
   "metadata": {},
   "source": [
    "*На складе лежат разные фрукты в разном количестве.<br>\n",
    "Нужно написать функцию, которая на вход принимает любое количество названий фруктов и их количество, а возвращает общее количество фруктов на складе*"
   ]
  },
  {
   "cell_type": "code",
   "execution_count": null,
   "id": "0075b7b1",
   "metadata": {},
   "outputs": [],
   "source": [
    "def fruits(**kwargs):\n",
    "    all_fruits = sum(kwargs.values())\n",
    "    return all_fruits\n",
    "fruits(banana=10, orange=5, grapefruit=10)"
   ]
  },
  {
   "cell_type": "markdown",
   "id": "55644921",
   "metadata": {},
   "source": [
    "## Задание 2 ##"
   ]
  },
  {
   "cell_type": "markdown",
   "id": "d427763f",
   "metadata": {},
   "source": [
    "*Дан список с затратами на рекламу.<br> Но в данных есть ошибки, некоторые затраты имеют отрицательную величину.<br> Удалите такие значения из списка и посчитайте суммарные затраты<br>Используйте list comprehensions*"
   ]
  },
  {
   "cell_type": "code",
   "execution_count": null,
   "id": "80e05463",
   "metadata": {},
   "outputs": [],
   "source": [
    "adv_exp = [100, 125, -90, 345, 655, -1, 0, 200]"
   ]
  },
  {
   "cell_type": "code",
   "execution_count": null,
   "id": "104c1406",
   "metadata": {},
   "outputs": [],
   "source": [
    "clean_adv = [i for i in adv_exp if i >= 0]\n",
    "print(clean_adv)\n",
    "f'Total exp = {sum(clean_adv)}'"
   ]
  },
  {
   "cell_type": "markdown",
   "id": "f3c07e2d",
   "metadata": {},
   "source": [
    "## Задание 3 ##"
   ]
  },
  {
   "cell_type": "markdown",
   "id": "af350c65",
   "metadata": {},
   "source": [
    "*Даны два списка: \n",
    "дата покупки и cуммы покупок по датам*"
   ]
  },
  {
   "cell_type": "code",
   "execution_count": null,
   "id": "72d999cb",
   "metadata": {},
   "outputs": [],
   "source": [
    "buy_date = ['2021-09-14', '2021-12-15', '2021-09-08', '2021-12-05', '2021-10-09', '2021-09-30', '2021-12-22',\n",
    "            '2021-11-29', '2021-12-24', '2021-11-26', '2021-10-27', '2021-12-18', '2021-11-09', '2021-11-23',\n",
    "            '2021-09-27', '2021-10-02', '2021-12-27', '2021-09-20', '2021-12-13', '2021-11-01', '2021-11-09',\n",
    "            '2021-12-06', '2021-12-08', '2021-10-09', '2021-10-31', '2021-09-30', '2021-11-09', '2021-12-13',\n",
    "            '2021-10-26', '2021-12-09']\n",
    "date_exp = [1270, 8413, 9028, 3703, 5739, 4095, 295, 4944, 5723, 3701, 4471, 651, 7037, 4274, 6275, 4988, 6930,\n",
    "            2971, 6592, 2004, 2822, 519, 3406, 2732, 5015, 2008, 316, 6333, 5700, 2887]"
   ]
  },
  {
   "cell_type": "markdown",
   "id": "0e52b2f8",
   "metadata": {},
   "source": [
    "### 3.1 ###\n",
    "*Найдите, какая выручка у компании в ноябре*"
   ]
  },
  {
   "cell_type": "code",
   "execution_count": null,
   "id": "5aa7a93c",
   "metadata": {},
   "outputs": [],
   "source": [
    "whole_data = (buy_date, date_exp)\n",
    "rev = [date_exp[k] for k in range(len(buy_date)) if '-11-' in buy_date[k]]\n",
    "print(rev)\n",
    "sum(rev)\n"
   ]
  },
  {
   "cell_type": "markdown",
   "id": "78989bf3",
   "metadata": {},
   "source": [
    "### 3.2 ###\n",
    "*Найдите выручку компании в зависимости от месяца*"
   ]
  },
  {
   "cell_type": "code",
   "execution_count": null,
   "id": "705b7455",
   "metadata": {},
   "outputs": [],
   "source": [
    "def money(first: list, second: list) -> dict:\n",
    "    \n",
    "    test = {}\n",
    "    \n",
    "    for i in range(len(first)):\n",
    "        \n",
    "        if first[i].split('-')[1] in test.keys():\n",
    "            test[first[i].split('-')[1]] += second[i]\n",
    "        else:\n",
    "            test[first[i].split('-')[1]] = second[i]\n",
    "            \n",
    "    return test"
   ]
  },
  {
   "cell_type": "code",
   "execution_count": null,
   "id": "85d7f078",
   "metadata": {},
   "outputs": [],
   "source": [
    "money(buy_date, date_exp)"
   ]
  }
 ],
 "metadata": {
  "kernelspec": {
   "display_name": "Python 3 (ipykernel)",
   "language": "python",
   "name": "python3"
  },
  "language_info": {
   "codemirror_mode": {
    "name": "ipython",
    "version": 3
   },
   "file_extension": ".py",
   "mimetype": "text/x-python",
   "name": "python",
   "nbconvert_exporter": "python",
   "pygments_lexer": "ipython3",
   "version": "3.11.3"
  }
 },
 "nbformat": 4,
 "nbformat_minor": 5
}
